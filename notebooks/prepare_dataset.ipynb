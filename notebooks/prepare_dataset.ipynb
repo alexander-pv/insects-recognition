{
 "cells": [
  {
   "cell_type": "markdown",
   "metadata": {},
   "source": [
    "### Prepare dataset for training"
   ]
  },
  {
   "cell_type": "markdown",
   "metadata": {},
   "source": [
    "To prepare your custom dataset for model training, create folder `datasets` in the project folder and place your images to the `datasets/your_dataset_name/raw` subfodler. To distinguish classes during data preparation, split your images to folders in `raw` subfolder. Each folder name in `raw` will be noted as a specific class name. Use only jpeg/jpg, png image formats.\n",
    "\n",
    "For example, for `datasets/adelphocoris_net` the file structure can be organised as:\n",
    "\n",
    "        adelphocoris_net/\n",
    "    ├── raw\n",
    "    │   ├── Adelphocoris_lineolatus\n",
    "    │   ├── Adelphocoris_qudripunctatus\n",
    "    │   ├── Adelphocoris_seticornis\n",
    "    │   └── Adelphocoris_vandalicus\n",
    "\n"
   ]
  },
  {
   "cell_type": "code",
   "execution_count": 1,
   "metadata": {},
   "outputs": [],
   "source": [
    "import os"
   ]
  },
  {
   "cell_type": "code",
   "execution_count": 2,
   "metadata": {},
   "outputs": [
    {
     "data": {
      "text/plain": [
       "['models_test.py',\n",
       " 'weights',\n",
       " '__pycache__',\n",
       " 'config.py',\n",
       " 'mobilenet_selector.py',\n",
       " 'add',\n",
       " 'resnet_selector.py',\n",
       " 'main.py',\n",
       " 'model_explain.py',\n",
       " 'utils',\n",
       " 'neptune_logger.py',\n",
       " 'model_training.py',\n",
       " 'prepare_dataset.py']"
      ]
     },
     "execution_count": 2,
     "metadata": {},
     "output_type": "execute_result"
    }
   ],
   "source": [
    "os.chdir(os.path.join('..', 'src'))\n",
    "os.listdir()"
   ]
  },
  {
   "cell_type": "code",
   "execution_count": 3,
   "metadata": {},
   "outputs": [],
   "source": [
    "import prepare_dataset"
   ]
  },
  {
   "cell_type": "code",
   "execution_count": 4,
   "metadata": {},
   "outputs": [
    {
     "name": "stderr",
     "output_type": "stream",
     "text": [
      "\r",
      "  0%|          | 0/2 [00:00<?, ?it/s]"
     ]
    },
    {
     "name": "stdout",
     "output_type": "stream",
     "text": [
      "Registering dataset.\n",
      "Project path: /home/alexander/Documents/py_projects/bitbucket/rsf_insects_recognition\n",
      "Relative raw data path: datasets/test_data/raw\n",
      "\n",
      "Processing class:  bees\n"
     ]
    },
    {
     "name": "stderr",
     "output_type": "stream",
     "text": [
      "\r",
      " 50%|█████     | 1/2 [00:01<00:01,  1.27s/it]"
     ]
    },
    {
     "name": "stdout",
     "output_type": "stream",
     "text": [
      "\n",
      "Processing class:  ants\n"
     ]
    },
    {
     "name": "stderr",
     "output_type": "stream",
     "text": [
      "100%|██████████| 2/2 [00:02<00:00,  1.33s/it]"
     ]
    },
    {
     "name": "stdout",
     "output_type": "stream",
     "text": [
      "'create_hashed_img_dataset':  2703.39 ms\n"
     ]
    },
    {
     "name": "stderr",
     "output_type": "stream",
     "text": [
      "\n"
     ]
    }
   ],
   "source": [
    "# Set folder name of tour dataset to DATASET_FOLDER\n",
    "DATASET_FOLDER = 'test_data'\n",
    "# Prepare dataset\n",
    "prepare_dataset.register_image_dataset(data_folder=DATASET_FOLDER,\n",
    "                                       work_dir=os.getcwd())"
   ]
  }
 ],
 "metadata": {
  "kernelspec": {
   "display_name": "Python 3",
   "language": "python",
   "name": "python3"
  },
  "language_info": {
   "codemirror_mode": {
    "name": "ipython",
    "version": 3
   },
   "file_extension": ".py",
   "mimetype": "text/x-python",
   "name": "python",
   "nbconvert_exporter": "python",
   "pygments_lexer": "ipython3",
   "version": "3.7.7"
  }
 },
 "nbformat": 4,
 "nbformat_minor": 4
}
