{
 "cells": [
  {
   "cell_type": "markdown",
   "metadata": {},
   "source": [
    "### Test your dataset"
   ]
  },
  {
   "cell_type": "markdown",
   "metadata": {},
   "source": [
    "Here is an example of trained model testing. All testing constants are placed into `config.py`. \n",
    "Tests detalization can be obtained in `models_test.py`"
   ]
  },
  {
   "cell_type": "code",
   "execution_count": null,
   "metadata": {},
   "outputs": [],
   "source": [
    "import os\n",
    "\n",
    "%matplotlib inline\n",
    "%config InlineBackend.figure_format = 'retina'\n",
    "\n",
    "os.chdir(os.path.join('..', 'src'))"
   ]
  },
  {
   "cell_type": "code",
   "execution_count": null,
   "metadata": {},
   "outputs": [],
   "source": [
    "import config\n",
    "from models_test import  test_model, make_interpretable_plots"
   ]
  },
  {
   "cell_type": "code",
   "execution_count": null,
   "metadata": {},
   "outputs": [],
   "source": [
    "print(  f\"\"\"\n",
    "        TESTING_MODEL_NAME: {config.TESTING_MODEL_NAME}       \n",
    "        TESTING_DATASET_NAME: {config.TESTING_DATASET_NAME}         \n",
    "        TESTING_EXTERNAL_DATASET_NAME: {config.TESTING_EXTERNAL_DATASET_NAME}\n",
    "        TESTING_ON_EXTERNAL_DATA: {config.TESTING_ON_EXTERNAL_DATA}      \n",
    "        TESTING_ON_TEST_PART_OF_GENERAL_DATA: {config.TESTING_ON_TEST_PART_OF_GENERAL_DATA}\n",
    "        TESTING_INTERPRETABLE_PLOTS: {config.TESTING_INTERPRETABLE_PLOTS}\n",
    "        TESTING_DETAILED_TEST_PREDS: {config.TESTING_DETAILED_TEST_PREDS}   \n",
    "        TESTING_MODEL_WEIGHTS: \n",
    "        {config.TESTING_MODEL_WEIGHTS}\n",
    "      \"\"\"\n",
    "     )"
   ]
  },
  {
   "cell_type": "code",
   "execution_count": null,
   "metadata": {
    "scrolled": false
   },
   "outputs": [],
   "source": [
    "if config.TESTING_ON_TEST_PART_OF_GENERAL_DATA:\n",
    "    for mtype, folder_name in config.TESTING_MODEL_WEIGHTS.items():\n",
    "        \n",
    "        test_model(model_name=config.TESTING_MODEL_NAME, dataset_name=config.TESTING_DATASET_NAME,\n",
    "                   folder_to_evaluate=folder_name, model_type=mtype)\n",
    "        \n",
    "        if config.TESTING_INTERPRETABLE_PLOTS:\n",
    "            make_interpretable_plots(model_name=config.TESTING_MODEL_NAME,\n",
    "                                           dataset_name=config.TESTING_DATASET_NAME,\n",
    "                                           folder_to_evaluate=folder_name, \n",
    "                                           model_type=mtype)"
   ]
  },
  {
   "cell_type": "code",
   "execution_count": null,
   "metadata": {},
   "outputs": [],
   "source": []
  }
 ],
 "metadata": {
  "kernelspec": {
   "display_name": "Python 3",
   "language": "python",
   "name": "python3"
  },
  "language_info": {
   "codemirror_mode": {
    "name": "ipython",
    "version": 3
   },
   "file_extension": ".py",
   "mimetype": "text/x-python",
   "name": "python",
   "nbconvert_exporter": "python",
   "pygments_lexer": "ipython3",
   "version": "3.7.7"
  }
 },
 "nbformat": 4,
 "nbformat_minor": 4
}
